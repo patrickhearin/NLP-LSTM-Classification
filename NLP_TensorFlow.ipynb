{
  "nbformat": 4,
  "nbformat_minor": 0,
  "metadata": {
    "colab": {
      "provenance": []
    },
    "kernelspec": {
      "name": "python3",
      "display_name": "Python 3"
    },
    "language_info": {
      "name": "python"
    }
  },
  "cells": [
    {
      "cell_type": "markdown",
      "source": [
        "# Patrick Hearin Ph.D.\n",
        "## NLP with Long-Short-Term Model in TensorFlow"
      ],
      "metadata": {
        "id": "fcHIMKm6Ibv5"
      }
    },
    {
      "cell_type": "markdown",
      "source": [
        "Project: Tweet Emotion Classification\n",
        "\n",
        "Objective: Build a model that can automatically classify tweets into different emotions (e.g., anger, joy, sadness, fear, etc.) based on their textual content.\n",
        "\n",
        "Approach:\n",
        "\n",
        "Data: Use the Tweet Emotion dataset, which contains tweets labeled with their corresponding emotions.\n",
        "\n",
        "Preprocessing:\n",
        "\n",
        "Clean the tweets (remove URLs, mentions, hashtags, etc.).\n",
        "Tokenize the tweets into individual words or subwords.\n",
        "Build a vocabulary and convert words to numerical representations (e.g., using word embeddings).\n",
        "Pad/truncate sequences to a consistent length.\n",
        "Model:\n",
        "\n",
        "Use an Embedding layer to represent words as dense vectors.\n",
        "Employ an LSTM layer to capture sequential dependencies in the tweet text.\n",
        "Add a dense layer with a softmax activation function for multi-class classification (multiple emotions).\n",
        "Training:\n",
        "\n",
        "Compile the model with a suitable loss function (e.g., categorical cross-entropy) and optimizer (e.g., Adam).\n",
        "Train the model on the preprocessed dataset.\n",
        "Evaluation:\n",
        "\n",
        "Assess the model's performance on a separate test set using metrics like accuracy, precision, recall, and F1-score for each emotion class.\n",
        "Consider generating a confusion matrix to visualize the model's strengths and weaknesses."
      ],
      "metadata": {
        "id": "7FThklJtTcMj"
      }
    },
    {
      "cell_type": "markdown",
      "source": [
        "# Uncomment this to install the dataset used for this project."
      ],
      "metadata": {
        "id": "QO2i4lFETk_C"
      }
    },
    {
      "cell_type": "code",
      "execution_count": 33,
      "metadata": {
        "colab": {
          "base_uri": "https://localhost:8080/"
        },
        "id": "sC0o0-VoD_pD",
        "outputId": "71f31a1e-a9e7-47e8-e526-af1724a615be"
      },
      "outputs": [
        {
          "output_type": "stream",
          "name": "stdout",
          "text": [
            "Requirement already satisfied: datasets in /usr/local/lib/python3.10/dist-packages (3.0.0)\n",
            "Requirement already satisfied: filelock in /usr/local/lib/python3.10/dist-packages (from datasets) (3.16.1)\n",
            "Requirement already satisfied: numpy>=1.17 in /usr/local/lib/python3.10/dist-packages (from datasets) (1.26.4)\n",
            "Requirement already satisfied: pyarrow>=15.0.0 in /usr/local/lib/python3.10/dist-packages (from datasets) (17.0.0)\n",
            "Requirement already satisfied: dill<0.3.9,>=0.3.0 in /usr/local/lib/python3.10/dist-packages (from datasets) (0.3.8)\n",
            "Requirement already satisfied: pandas in /usr/local/lib/python3.10/dist-packages (from datasets) (2.1.4)\n",
            "Requirement already satisfied: requests>=2.32.2 in /usr/local/lib/python3.10/dist-packages (from datasets) (2.32.3)\n",
            "Requirement already satisfied: tqdm>=4.66.3 in /usr/local/lib/python3.10/dist-packages (from datasets) (4.66.5)\n",
            "Requirement already satisfied: xxhash in /usr/local/lib/python3.10/dist-packages (from datasets) (3.5.0)\n",
            "Requirement already satisfied: multiprocess in /usr/local/lib/python3.10/dist-packages (from datasets) (0.70.16)\n",
            "Requirement already satisfied: fsspec<=2024.6.1,>=2023.1.0 in /usr/local/lib/python3.10/dist-packages (from fsspec[http]<=2024.6.1,>=2023.1.0->datasets) (2024.6.1)\n",
            "Requirement already satisfied: aiohttp in /usr/local/lib/python3.10/dist-packages (from datasets) (3.10.5)\n",
            "Requirement already satisfied: huggingface-hub>=0.22.0 in /usr/local/lib/python3.10/dist-packages (from datasets) (0.24.7)\n",
            "Requirement already satisfied: packaging in /usr/local/lib/python3.10/dist-packages (from datasets) (24.1)\n",
            "Requirement already satisfied: pyyaml>=5.1 in /usr/local/lib/python3.10/dist-packages (from datasets) (6.0.2)\n",
            "Requirement already satisfied: aiohappyeyeballs>=2.3.0 in /usr/local/lib/python3.10/dist-packages (from aiohttp->datasets) (2.4.0)\n",
            "Requirement already satisfied: aiosignal>=1.1.2 in /usr/local/lib/python3.10/dist-packages (from aiohttp->datasets) (1.3.1)\n",
            "Requirement already satisfied: attrs>=17.3.0 in /usr/local/lib/python3.10/dist-packages (from aiohttp->datasets) (24.2.0)\n",
            "Requirement already satisfied: frozenlist>=1.1.1 in /usr/local/lib/python3.10/dist-packages (from aiohttp->datasets) (1.4.1)\n",
            "Requirement already satisfied: multidict<7.0,>=4.5 in /usr/local/lib/python3.10/dist-packages (from aiohttp->datasets) (6.1.0)\n",
            "Requirement already satisfied: yarl<2.0,>=1.0 in /usr/local/lib/python3.10/dist-packages (from aiohttp->datasets) (1.11.1)\n",
            "Requirement already satisfied: async-timeout<5.0,>=4.0 in /usr/local/lib/python3.10/dist-packages (from aiohttp->datasets) (4.0.3)\n",
            "Requirement already satisfied: typing-extensions>=3.7.4.3 in /usr/local/lib/python3.10/dist-packages (from huggingface-hub>=0.22.0->datasets) (4.12.2)\n",
            "Requirement already satisfied: charset-normalizer<4,>=2 in /usr/local/lib/python3.10/dist-packages (from requests>=2.32.2->datasets) (3.3.2)\n",
            "Requirement already satisfied: idna<4,>=2.5 in /usr/local/lib/python3.10/dist-packages (from requests>=2.32.2->datasets) (3.10)\n",
            "Requirement already satisfied: urllib3<3,>=1.21.1 in /usr/local/lib/python3.10/dist-packages (from requests>=2.32.2->datasets) (2.0.7)\n",
            "Requirement already satisfied: certifi>=2017.4.17 in /usr/local/lib/python3.10/dist-packages (from requests>=2.32.2->datasets) (2024.8.30)\n",
            "Requirement already satisfied: python-dateutil>=2.8.2 in /usr/local/lib/python3.10/dist-packages (from pandas->datasets) (2.8.2)\n",
            "Requirement already satisfied: pytz>=2020.1 in /usr/local/lib/python3.10/dist-packages (from pandas->datasets) (2024.2)\n",
            "Requirement already satisfied: tzdata>=2022.1 in /usr/local/lib/python3.10/dist-packages (from pandas->datasets) (2024.1)\n",
            "Requirement already satisfied: six>=1.5 in /usr/local/lib/python3.10/dist-packages (from python-dateutil>=2.8.2->pandas->datasets) (1.16.0)\n"
          ]
        }
      ],
      "source": [
        "#!pip install datasets"
      ]
    },
    {
      "cell_type": "markdown",
      "source": [
        "Load all the libraries needed."
      ],
      "metadata": {
        "id": "MjtU8galTut3"
      }
    },
    {
      "cell_type": "code",
      "source": [
        "%matplotlib inline\n",
        "\n",
        "import tensorflow as tf\n",
        "import numpy as np\n",
        "import matplotlib.pyplot as plt\n",
        "# import nlp\n",
        "import random\n",
        "\n",
        "\n",
        "def show_history(h):\n",
        "    epochs_trained = len(h.history['loss'])\n",
        "    plt.figure(figsize=(16, 6))\n",
        "\n",
        "    plt.subplot(1, 2, 1)\n",
        "    plt.plot(range(0, epochs_trained), h.history.get('accuracy'), label='Training')\n",
        "    plt.plot(range(0, epochs_trained), h.history.get('val_accuracy'), label='Validation')\n",
        "    plt.ylim([0., 1.])\n",
        "    plt.xlabel('Epochs')\n",
        "    plt.ylabel('Accuracy')\n",
        "    plt.legend()\n",
        "\n",
        "    plt.subplot(1, 2, 2)\n",
        "    plt.plot(range(0, epochs_trained), h.history.get('loss'), label='Training')\n",
        "    plt.plot(range(0, epochs_trained), h.history.get('val_loss'), label='Validation')\n",
        "    plt.xlabel('Epochs')\n",
        "    plt.ylabel('Loss')\n",
        "    plt.legend()\n",
        "    plt.show()\n",
        "\n",
        "\n",
        "def show_confusion_matrix(y_true, y_pred, classes):\n",
        "    from sklearn.metrics import confusion_matrix\n",
        "\n",
        "    cm = confusion_matrix(y_true, y_pred, normalize='true')\n",
        "\n",
        "    plt.figure(figsize=(8, 8))\n",
        "    sp = plt.subplot(1, 1, 1)\n",
        "    ctx = sp.matshow(cm)\n",
        "    plt.xticks(list(range(0, 6)), labels=classes)\n",
        "    plt.yticks(list(range(0, 6)), labels=classes)\n",
        "    plt.colorbar(ctx)\n",
        "    plt.show()\n",
        "\n",
        "\n",
        "print('Using TensorFlow version', tf.__version__)"
      ],
      "metadata": {
        "colab": {
          "base_uri": "https://localhost:8080/"
        },
        "id": "SNLIYJLpEKyq",
        "outputId": "dabcce1f-8e15-4a73-a9bf-a15c5a677457"
      },
      "execution_count": 34,
      "outputs": [
        {
          "output_type": "stream",
          "name": "stdout",
          "text": [
            "Using TensorFlow version 2.17.0\n"
          ]
        }
      ]
    },
    {
      "cell_type": "markdown",
      "source": [
        "# Import the datasets for the project."
      ],
      "metadata": {
        "id": "R3EJbT_1T59-"
      }
    },
    {
      "cell_type": "code",
      "source": [
        "import datasets"
      ],
      "metadata": {
        "id": "S-08f0dQTQs8"
      },
      "execution_count": 35,
      "outputs": []
    },
    {
      "cell_type": "code",
      "source": [
        "data = datasets.load_dataset('emotion')"
      ],
      "metadata": {
        "id": "O63jXph6TVzV"
      },
      "execution_count": 36,
      "outputs": []
    },
    {
      "cell_type": "code",
      "source": [
        "data"
      ],
      "metadata": {
        "colab": {
          "base_uri": "https://localhost:8080/"
        },
        "id": "y4k4erNmTZN6",
        "outputId": "f7ce54d9-6da5-4c47-a5c3-18161ccc3f95"
      },
      "execution_count": 37,
      "outputs": [
        {
          "output_type": "execute_result",
          "data": {
            "text/plain": [
              "DatasetDict({\n",
              "    train: Dataset({\n",
              "        features: ['text', 'label'],\n",
              "        num_rows: 16000\n",
              "    })\n",
              "    validation: Dataset({\n",
              "        features: ['text', 'label'],\n",
              "        num_rows: 2000\n",
              "    })\n",
              "    test: Dataset({\n",
              "        features: ['text', 'label'],\n",
              "        num_rows: 2000\n",
              "    })\n",
              "})"
            ]
          },
          "metadata": {},
          "execution_count": 37
        }
      ]
    },
    {
      "cell_type": "code",
      "source": [
        "train = data['train']\n",
        "test = data['test']\n",
        "val=data['validation']"
      ],
      "metadata": {
        "id": "_UIC21ewTegj"
      },
      "execution_count": 38,
      "outputs": []
    },
    {
      "cell_type": "code",
      "source": [
        "def get_tweet(data):\n",
        "    tweets = [x['text'] for x in data]\n",
        "    labels = [x['label'] for x in data]\n",
        "    return tweets, labels"
      ],
      "metadata": {
        "id": "lJF08xCfTsn8"
      },
      "execution_count": 39,
      "outputs": []
    },
    {
      "cell_type": "code",
      "source": [
        "tweets, labels = get_tweet(train)"
      ],
      "metadata": {
        "id": "Z5ntlYMQUJW7"
      },
      "execution_count": 40,
      "outputs": []
    },
    {
      "cell_type": "code",
      "source": [
        "tweets[0], labels[0]"
      ],
      "metadata": {
        "colab": {
          "base_uri": "https://localhost:8080/"
        },
        "id": "jLfo2DjaUZw8",
        "outputId": "2eb45d80-a60b-4875-e059-080ce3096aae"
      },
      "execution_count": 41,
      "outputs": [
        {
          "output_type": "execute_result",
          "data": {
            "text/plain": [
              "('i didnt feel humiliated', 0)"
            ]
          },
          "metadata": {},
          "execution_count": 41
        }
      ]
    },
    {
      "cell_type": "markdown",
      "source": [
        "# Tokenization"
      ],
      "metadata": {
        "id": "jhtjS9aWYrQL"
      }
    },
    {
      "cell_type": "code",
      "source": [
        "from tensorflow.keras.preprocessing.text import Tokenizer"
      ],
      "metadata": {
        "id": "Nbu3jtn1Ubyd"
      },
      "execution_count": 42,
      "outputs": []
    },
    {
      "cell_type": "code",
      "source": [
        "tokenizer = Tokenizer(num_words=10000, oov_token='<UNK>')\n",
        "tokenizer.fit_on_texts(tweets)"
      ],
      "metadata": {
        "id": "QiVyKYx0YyH0"
      },
      "execution_count": 43,
      "outputs": []
    },
    {
      "cell_type": "code",
      "source": [
        "tokenizer.texts_to_sequences([tweets[0]])"
      ],
      "metadata": {
        "colab": {
          "base_uri": "https://localhost:8080/"
        },
        "id": "vJnKtAvfb_J8",
        "outputId": "5d80559e-568e-4d31-9069-3c5a74b55536"
      },
      "execution_count": 44,
      "outputs": [
        {
          "output_type": "execute_result",
          "data": {
            "text/plain": [
              "[[2, 139, 3, 679]]"
            ]
          },
          "metadata": {},
          "execution_count": 44
        }
      ]
    },
    {
      "cell_type": "code",
      "source": [
        "tweets[0]"
      ],
      "metadata": {
        "colab": {
          "base_uri": "https://localhost:8080/",
          "height": 36
        },
        "id": "Omgn_0CcqOuw",
        "outputId": "3da80d80-6ffe-49b0-c6ff-6a760cba3f0c"
      },
      "execution_count": 45,
      "outputs": [
        {
          "output_type": "execute_result",
          "data": {
            "text/plain": [
              "'i didnt feel humiliated'"
            ],
            "application/vnd.google.colaboratory.intrinsic+json": {
              "type": "string"
            }
          },
          "metadata": {},
          "execution_count": 45
        }
      ]
    },
    {
      "cell_type": "markdown",
      "source": [
        "# Padding and Truncating Sequences"
      ],
      "metadata": {
        "id": "BNDc6tXurThT"
      }
    },
    {
      "cell_type": "code",
      "source": [
        "\n",
        "import matplotlib.pyplot as plt\n",
        "\n",
        "lengths = [len(t.split(' ')) for t in tweets]\n",
        "plt.hist(lengths, bins=len(set(lengths)))\n",
        "plt.show()"
      ],
      "metadata": {
        "colab": {
          "base_uri": "https://localhost:8080/",
          "height": 430
        },
        "id": "BDxG_WFcqc0C",
        "outputId": "9d34fa53-19fe-4c8b-a801-c1d3865f0fb8"
      },
      "execution_count": 46,
      "outputs": [
        {
          "output_type": "display_data",
          "data": {
            "text/plain": [
              "<Figure size 640x480 with 1 Axes>"
            ],
            "image/png": "[encoded data removed]"
          },
          "metadata": {}
        }
      ]
    },
    {
      "cell_type": "code",
      "source": [
        "maxlen = 50\n",
        "\n",
        "from tensorflow.keras.preprocessing.sequence import pad_sequences"
      ],
      "metadata": {
        "id": "MrsOPUaIrgtB"
      },
      "execution_count": 47,
      "outputs": []
    },
    {
      "cell_type": "code",
      "source": [
        "get_sequences2 = lambda x: pad_sequences(tokenizer.texts_to_sequences(x), maxlen=maxlen, padding='post', truncating='post')"
      ],
      "metadata": {
        "id": "4SLWJOIJsJ6v"
      },
      "execution_count": 48,
      "outputs": []
    },
    {
      "cell_type": "code",
      "source": [
        "def get_sequences(tokenizer, x):\n",
        "  sequences = tokenizer.texts_to_sequences(x)\n",
        "  padded = pad_sequences(sequences, truncating='post', padding='post', maxlen=maxlen)\n",
        "  return padded"
      ],
      "metadata": {
        "id": "l_Eeuzj7sO2B"
      },
      "execution_count": 49,
      "outputs": []
    },
    {
      "cell_type": "code",
      "source": [
        "padded_train_seq = get_sequences(tokenizer, tweets)"
      ],
      "metadata": {
        "id": "L-23uuVvAoi_"
      },
      "execution_count": 50,
      "outputs": []
    },
    {
      "cell_type": "code",
      "source": [
        "padded_train_seq[0]"
      ],
      "metadata": {
        "colab": {
          "base_uri": "https://localhost:8080/"
        },
        "id": "CzsdlaniAwIM",
        "outputId": "0aef1539-b4e4-4370-c0c1-1a6d9f7537ed"
      },
      "execution_count": 51,
      "outputs": [
        {
          "output_type": "execute_result",
          "data": {
            "text/plain": [
              "array([  2, 139,   3, 679,   0,   0,   0,   0,   0,   0,   0,   0,   0,\n",
              "         0,   0,   0,   0,   0,   0,   0,   0,   0,   0,   0,   0,   0,\n",
              "         0,   0,   0,   0,   0,   0,   0,   0,   0,   0,   0,   0,   0,\n",
              "         0,   0,   0,   0,   0,   0,   0,   0,   0,   0,   0], dtype=int32)"
            ]
          },
          "metadata": {},
          "execution_count": 51
        }
      ]
    },
    {
      "cell_type": "markdown",
      "source": [
        "\n",
        "# Preparing the Labels"
      ],
      "metadata": {
        "id": "9VmFk6qdrPGQ"
      }
    },
    {
      "cell_type": "code",
      "source": [
        "classes = set(labels)\n",
        "classes"
      ],
      "metadata": {
        "colab": {
          "base_uri": "https://localhost:8080/"
        },
        "id": "104d8hrDB-UA",
        "outputId": "9c55d447-6910-4ae2-81b9-88ea14e2c6ef"
      },
      "execution_count": 52,
      "outputs": [
        {
          "output_type": "execute_result",
          "data": {
            "text/plain": [
              "{0, 1, 2, 3, 4, 5}"
            ]
          },
          "metadata": {},
          "execution_count": 52
        }
      ]
    },
    {
      "cell_type": "code",
      "source": [
        "plt.hist(labels, bins=11)\n",
        "plt.show()"
      ],
      "metadata": {
        "colab": {
          "base_uri": "https://localhost:8080/",
          "height": 430
        },
        "id": "LGTxuQHcrS3T",
        "outputId": "9fc9578c-4cd3-419b-e52b-7c7c5d98d9a8"
      },
      "execution_count": 53,
      "outputs": [
        {
          "output_type": "display_data",
          "data": {
            "text/plain": [
              "<Figure size 640x480 with 1 Axes>"
            ],
            "image/png": "[encoded data removed]"
          },
          "metadata": {}
        }
      ]
    },
    {
      "cell_type": "markdown",
      "source": [
        "In the context of the Tweet Emotion dataset, an imbalanced dataset means that some emotion categories have significantly more examples (tweets) than others. This imbalance can pose a challenge for machine learning models, as they might become biased towards the majority classes and struggle to accurately classify the minority classes. Addressing this imbalance is often crucial to ensure fair and effective emotion classification. Techniques like resampling (oversampling minority classes or undersampling majority classes) or using specialized loss functions can help mitigate the effects of an imbalanced dataset."
      ],
      "metadata": {
        "id": "RcIOdzbgUC6r"
      }
    },
    {
      "cell_type": "code",
      "source": [
        "classes_to_index = dict((c,i) for i,c in enumerate(classes))\n",
        "classes_to_index"
      ],
      "metadata": {
        "colab": {
          "base_uri": "https://localhost:8080/"
        },
        "id": "x8tKscbn59wt",
        "outputId": "353e8309-1fe1-461a-f826-b029e8bf8086"
      },
      "execution_count": 54,
      "outputs": [
        {
          "output_type": "execute_result",
          "data": {
            "text/plain": [
              "{0: 0, 1: 1, 2: 2, 3: 3, 4: 4, 5: 5}"
            ]
          },
          "metadata": {},
          "execution_count": 54
        }
      ]
    },
    {
      "cell_type": "code",
      "source": [
        "index_to_classes = dict((v,k) for k,v in classes_to_index.items())\n",
        "index_to_classes"
      ],
      "metadata": {
        "colab": {
          "base_uri": "https://localhost:8080/"
        },
        "id": "GHRonRoN6XKB",
        "outputId": "da03b97b-a356-488b-be3d-aa2aa8661580"
      },
      "execution_count": 55,
      "outputs": [
        {
          "output_type": "execute_result",
          "data": {
            "text/plain": [
              "{0: 0, 1: 1, 2: 2, 3: 3, 4: 4, 5: 5}"
            ]
          },
          "metadata": {},
          "execution_count": 55
        }
      ]
    },
    {
      "cell_type": "code",
      "source": [
        "names_to_ids = lambda labels: np.array([classes_to_index.get(x) for x in labels])\n"
      ],
      "metadata": {
        "id": "_ASsluad6jnB"
      },
      "execution_count": 56,
      "outputs": []
    },
    {
      "cell_type": "code",
      "source": [
        "names_to_ids(labels[:5])"
      ],
      "metadata": {
        "colab": {
          "base_uri": "https://localhost:8080/"
        },
        "id": "Vk_oEzgJ64d5",
        "outputId": "2027ce90-05b0-4183-fdb0-03316d0c9119"
      },
      "execution_count": 57,
      "outputs": [
        {
          "output_type": "execute_result",
          "data": {
            "text/plain": [
              "array([0, 0, 3, 2, 3])"
            ]
          },
          "metadata": {},
          "execution_count": 57
        }
      ]
    },
    {
      "cell_type": "markdown",
      "source": [
        "# Creating the Model"
      ],
      "metadata": {
        "id": "YNup7s6o7hSw"
      }
    },
    {
      "cell_type": "code",
      "source": [
        "model = tf.keras.models.Sequential([\n",
        "    tf.keras.layers.Embedding(10000, 16, input_length=maxlen),\n",
        "    tf.keras.layers.Bidirectional(tf.keras.layers.LSTM(20, return_sequences=True)),\n",
        "    tf.keras.layers.Bidirectional(tf.keras.layers.LSTM(20)),\n",
        "    tf.keras.layers.Dense(6, activation='softmax')\n",
        "    ])\n",
        ""
      ],
      "metadata": {
        "colab": {
          "base_uri": "https://localhost:8080/"
        },
        "id": "d97s4uWE7g8t",
        "outputId": "de060748-0447-4ba6-f2f4-97832d0bc98a"
      },
      "execution_count": 58,
      "outputs": [
        {
          "output_type": "stream",
          "name": "stderr",
          "text": [
            "/usr/local/lib/python3.10/dist-packages/keras/src/layers/core/embedding.py:90: UserWarning: Argument `input_length` is deprecated. Just remove it.\n",
            "  warnings.warn(\n"
          ]
        }
      ]
    },
    {
      "cell_type": "code",
      "source": [
        "model.compile(loss='sparse_categorical_crossentropy', optimizer='adam', metrics=['accuracy'])\n",
        "model.summary()"
      ],
      "metadata": {
        "colab": {
          "base_uri": "https://localhost:8080/",
          "height": 267
        },
        "id": "BiJq1wXs7EEQ",
        "outputId": "ff45bd50-2d67-4b65-cbd3-1b3173f85ff8"
      },
      "execution_count": 59,
      "outputs": [
        {
          "output_type": "display_data",
          "data": {
            "text/plain": [
              "\u001b[1mModel: \"sequential_1\"\u001b[0m\n"
            ],
            "text/html": [
              "<pre style=\"white-space:pre;overflow-x:auto;line-height:normal;font-family:Menlo,'DejaVu Sans Mono',consolas,'Courier New',monospace\"><span style=\"font-weight: bold\">Model: \"sequential_1\"</span>\n",
              "</pre>\n"
            ]
          },
          "metadata": {}
        },
        {
          "output_type": "display_data",
          "data": {
            "text/plain": [
              "┏━━━━━━━━━━━━━━━━━━━━━━━━━━━━━━━━━━━━━━┳━━━━━━━━━━━━━━━━━━━━━━━━━━━━━┳━━━━━━━━━━━━━━━━━┓\n",
              "┃\u001b[1m \u001b[0m\u001b[1mLayer (type)                        \u001b[0m\u001b[1m \u001b[0m┃\u001b[1m \u001b[0m\u001b[1mOutput Shape               \u001b[0m\u001b[1m \u001b[0m┃\u001b[1m \u001b[0m\u001b[1m        Param #\u001b[0m\u001b[1m \u001b[0m┃\n",
              "┡━━━━━━━━━━━━━━━━━━━━━━━━━━━━━━━━━━━━━━╇━━━━━━━━━━━━━━━━━━━━━━━━━━━━━╇━━━━━━━━━━━━━━━━━┩\n",
              "│ embedding_1 (\u001b[38;5;33mEmbedding\u001b[0m)              │ ?                           │     \u001b[38;5;34m0\u001b[0m (unbuilt) │\n",
              "├──────────────────────────────────────┼─────────────────────────────┼─────────────────┤\n",
              "│ bidirectional_2 (\u001b[38;5;33mBidirectional\u001b[0m)      │ ?                           │     \u001b[38;5;34m0\u001b[0m (unbuilt) │\n",
              "├──────────────────────────────────────┼─────────────────────────────┼─────────────────┤\n",
              "│ bidirectional_3 (\u001b[38;5;33mBidirectional\u001b[0m)      │ ?                           │     \u001b[38;5;34m0\u001b[0m (unbuilt) │\n",
              "├──────────────────────────────────────┼─────────────────────────────┼─────────────────┤\n",
              "│ dense_1 (\u001b[38;5;33mDense\u001b[0m)                      │ ?                           │     \u001b[38;5;34m0\u001b[0m (unbuilt) │\n",
              "└──────────────────────────────────────┴─────────────────────────────┴─────────────────┘\n"
            ],
            "text/html": [
              "<pre style=\"white-space:pre;overflow-x:auto;line-height:normal;font-family:Menlo,'DejaVu Sans Mono',consolas,'Courier New',monospace\">┏━━━━━━━━━━━━━━━━━━━━━━━━━━━━━━━━━━━━━━┳━━━━━━━━━━━━━━━━━━━━━━━━━━━━━┳━━━━━━━━━━━━━━━━━┓\n",
              "┃<span style=\"font-weight: bold\"> Layer (type)                         </span>┃<span style=\"font-weight: bold\"> Output Shape                </span>┃<span style=\"font-weight: bold\">         Param # </span>┃\n",
              "┡━━━━━━━━━━━━━━━━━━━━━━━━━━━━━━━━━━━━━━╇━━━━━━━━━━━━━━━━━━━━━━━━━━━━━╇━━━━━━━━━━━━━━━━━┩\n",
              "│ embedding_1 (<span style=\"color: #0087ff; text-decoration-color: #0087ff\">Embedding</span>)              │ ?                           │     <span style=\"color: #00af00; text-decoration-color: #00af00\">0</span> (unbuilt) │\n",
              "├──────────────────────────────────────┼─────────────────────────────┼─────────────────┤\n",
              "│ bidirectional_2 (<span style=\"color: #0087ff; text-decoration-color: #0087ff\">Bidirectional</span>)      │ ?                           │     <span style=\"color: #00af00; text-decoration-color: #00af00\">0</span> (unbuilt) │\n",
              "├──────────────────────────────────────┼─────────────────────────────┼─────────────────┤\n",
              "│ bidirectional_3 (<span style=\"color: #0087ff; text-decoration-color: #0087ff\">Bidirectional</span>)      │ ?                           │     <span style=\"color: #00af00; text-decoration-color: #00af00\">0</span> (unbuilt) │\n",
              "├──────────────────────────────────────┼─────────────────────────────┼─────────────────┤\n",
              "│ dense_1 (<span style=\"color: #0087ff; text-decoration-color: #0087ff\">Dense</span>)                      │ ?                           │     <span style=\"color: #00af00; text-decoration-color: #00af00\">0</span> (unbuilt) │\n",
              "└──────────────────────────────────────┴─────────────────────────────┴─────────────────┘\n",
              "</pre>\n"
            ]
          },
          "metadata": {}
        },
        {
          "output_type": "display_data",
          "data": {
            "text/plain": [
              "\u001b[1m Total params: \u001b[0m\u001b[38;5;34m0\u001b[0m (0.00 B)\n"
            ],
            "text/html": [
              "<pre style=\"white-space:pre;overflow-x:auto;line-height:normal;font-family:Menlo,'DejaVu Sans Mono',consolas,'Courier New',monospace\"><span style=\"font-weight: bold\"> Total params: </span><span style=\"color: #00af00; text-decoration-color: #00af00\">0</span> (0.00 B)\n",
              "</pre>\n"
            ]
          },
          "metadata": {}
        },
        {
          "output_type": "display_data",
          "data": {
            "text/plain": [
              "\u001b[1m Trainable params: \u001b[0m\u001b[38;5;34m0\u001b[0m (0.00 B)\n"
            ],
            "text/html": [
              "<pre style=\"white-space:pre;overflow-x:auto;line-height:normal;font-family:Menlo,'DejaVu Sans Mono',consolas,'Courier New',monospace\"><span style=\"font-weight: bold\"> Trainable params: </span><span style=\"color: #00af00; text-decoration-color: #00af00\">0</span> (0.00 B)\n",
              "</pre>\n"
            ]
          },
          "metadata": {}
        },
        {
          "output_type": "display_data",
          "data": {
            "text/plain": [
              "\u001b[1m Non-trainable params: \u001b[0m\u001b[38;5;34m0\u001b[0m (0.00 B)\n"
            ],
            "text/html": [
              "<pre style=\"white-space:pre;overflow-x:auto;line-height:normal;font-family:Menlo,'DejaVu Sans Mono',consolas,'Courier New',monospace\"><span style=\"font-weight: bold\"> Non-trainable params: </span><span style=\"color: #00af00; text-decoration-color: #00af00\">0</span> (0.00 B)\n",
              "</pre>\n"
            ]
          },
          "metadata": {}
        }
      ]
    },
    {
      "cell_type": "markdown",
      "source": [
        "# Training the Model"
      ],
      "metadata": {
        "id": "E1GoeGBmSXBu"
      }
    },
    {
      "cell_type": "code",
      "source": [
        "train_tweet, train_labels = get_tweet(train)"
      ],
      "metadata": {
        "id": "hrhiZfCLXl0m"
      },
      "execution_count": 65,
      "outputs": []
    },
    {
      "cell_type": "code",
      "source": [
        "val_tweet, val_labels = get_tweet(val)"
      ],
      "metadata": {
        "id": "g9Jzf8QTQGTl"
      },
      "execution_count": 60,
      "outputs": []
    },
    {
      "cell_type": "code",
      "source": [
        "val_seq = get_sequences(tokenizer, val_tweet)"
      ],
      "metadata": {
        "id": "SEJ85oqwSbFO"
      },
      "execution_count": 61,
      "outputs": []
    },
    {
      "cell_type": "code",
      "source": [
        "val_labels = names_to_ids(val_labels)"
      ],
      "metadata": {
        "id": "UIhDc5fwSg3e"
      },
      "execution_count": 62,
      "outputs": []
    },
    {
      "cell_type": "code",
      "source": [
        "val_tweet[0], val_labels[0]"
      ],
      "metadata": {
        "colab": {
          "base_uri": "https://localhost:8080/"
        },
        "id": "M7P_Zw9rSlYK",
        "outputId": "c4207b1d-7ac7-4081-a0fa-4e5e3c389a59"
      },
      "execution_count": 63,
      "outputs": [
        {
          "output_type": "execute_result",
          "data": {
            "text/plain": [
              "('im feeling quite sad and sorry for myself but ill snap out of it soon', 0)"
            ]
          },
          "metadata": {},
          "execution_count": 63
        }
      ]
    },
    {
      "cell_type": "markdown",
      "source": [
        "# This is a small test model."
      ],
      "metadata": {
        "id": "PcAciOddUPyE"
      }
    },
    {
      "cell_type": "code",
      "source": [
        "h = model.fit(padded_train_seq, names_to_ids(labels), epochs=10, validation_data=(val_seq, val_labels), verbose=2)"
      ],
      "metadata": {
        "colab": {
          "base_uri": "https://localhost:8080/"
        },
        "id": "jBIjQR9OSrzq",
        "outputId": "f6314dbc-48a6-4ae9-e3ba-c522aa356d85"
      },
      "execution_count": 32,
      "outputs": [
        {
          "output_type": "stream",
          "name": "stdout",
          "text": [
            "Epoch 1/10\n",
            "500/500 - 39s - 78ms/step - accuracy: 0.4704 - loss: 1.3523 - val_accuracy: 0.6775 - val_loss: 0.8888\n",
            "Epoch 2/10\n",
            "500/500 - 52s - 104ms/step - accuracy: 0.7973 - loss: 0.5817 - val_accuracy: 0.8220 - val_loss: 0.5271\n",
            "Epoch 3/10\n",
            "500/500 - 45s - 90ms/step - accuracy: 0.8829 - loss: 0.3442 - val_accuracy: 0.8460 - val_loss: 0.4762\n",
            "Epoch 4/10\n",
            "500/500 - 67s - 135ms/step - accuracy: 0.9256 - loss: 0.2287 - val_accuracy: 0.8680 - val_loss: 0.4209\n",
            "Epoch 5/10\n",
            "500/500 - 39s - 78ms/step - accuracy: 0.9427 - loss: 0.1785 - val_accuracy: 0.8725 - val_loss: 0.3945\n",
            "Epoch 6/10\n",
            "500/500 - 40s - 80ms/step - accuracy: 0.9559 - loss: 0.1400 - val_accuracy: 0.8790 - val_loss: 0.4154\n",
            "Epoch 7/10\n",
            "500/500 - 28s - 57ms/step - accuracy: 0.9659 - loss: 0.1164 - val_accuracy: 0.8835 - val_loss: 0.3941\n",
            "Epoch 8/10\n",
            "500/500 - 41s - 83ms/step - accuracy: 0.9705 - loss: 0.0968 - val_accuracy: 0.8810 - val_loss: 0.4330\n",
            "Epoch 9/10\n",
            "500/500 - 40s - 80ms/step - accuracy: 0.9771 - loss: 0.0803 - val_accuracy: 0.8915 - val_loss: 0.4070\n",
            "Epoch 10/10\n",
            "500/500 - 28s - 56ms/step - accuracy: 0.9774 - loss: 0.0780 - val_accuracy: 0.8905 - val_loss: 0.3821\n"
          ]
        }
      ]
    },
    {
      "cell_type": "markdown",
      "source": [
        "# Full model."
      ],
      "metadata": {
        "id": "w_D-EW6lUTht"
      }
    },
    {
      "cell_type": "code",
      "source": [
        "h = model.fit(\n",
        "    padded_train_seq,\n",
        "    names_to_ids(labels),\n",
        "    epochs=20,\n",
        "    validation_data=(val_seq, val_labels),\n",
        "    callbacks=[tf.keras.callbacks.EarlyStopping(monitor='val_accuracy', patience=2)],\n",
        "    verbose=2)"
      ],
      "metadata": {
        "colab": {
          "base_uri": "https://localhost:8080/"
        },
        "id": "cePkmsyuS3z-",
        "outputId": "bb4b8aa6-b0f2-4d2a-a38c-66e9a64340d0"
      },
      "execution_count": 67,
      "outputs": [
        {
          "output_type": "stream",
          "name": "stdout",
          "text": [
            "Epoch 1/20\n",
            "500/500 - 39s - 77ms/step - accuracy: 0.4584 - loss: 1.3661 - val_accuracy: 0.6675 - val_loss: 0.9038\n",
            "Epoch 2/20\n",
            "500/500 - 41s - 82ms/step - accuracy: 0.7932 - loss: 0.6023 - val_accuracy: 0.8180 - val_loss: 0.5521\n",
            "Epoch 3/20\n",
            "500/500 - 41s - 83ms/step - accuracy: 0.8907 - loss: 0.3278 - val_accuracy: 0.8630 - val_loss: 0.4436\n",
            "Epoch 4/20\n",
            "500/500 - 40s - 81ms/step - accuracy: 0.9292 - loss: 0.2211 - val_accuracy: 0.8690 - val_loss: 0.4119\n",
            "Epoch 5/20\n",
            "500/500 - 28s - 57ms/step - accuracy: 0.9493 - loss: 0.1595 - val_accuracy: 0.8810 - val_loss: 0.4039\n",
            "Epoch 6/20\n",
            "500/500 - 43s - 87ms/step - accuracy: 0.9588 - loss: 0.1314 - val_accuracy: 0.8860 - val_loss: 0.3902\n",
            "Epoch 7/20\n",
            "500/500 - 40s - 80ms/step - accuracy: 0.9643 - loss: 0.1128 - val_accuracy: 0.8880 - val_loss: 0.3954\n",
            "Epoch 8/20\n",
            "500/500 - 43s - 86ms/step - accuracy: 0.9755 - loss: 0.0805 - val_accuracy: 0.8950 - val_loss: 0.3798\n",
            "Epoch 9/20\n",
            "500/500 - 41s - 81ms/step - accuracy: 0.9786 - loss: 0.0728 - val_accuracy: 0.8935 - val_loss: 0.3949\n",
            "Epoch 10/20\n",
            "500/500 - 41s - 83ms/step - accuracy: 0.9784 - loss: 0.0669 - val_accuracy: 0.9095 - val_loss: 0.3532\n",
            "Epoch 11/20\n",
            "500/500 - 37s - 75ms/step - accuracy: 0.9843 - loss: 0.0519 - val_accuracy: 0.9030 - val_loss: 0.3820\n",
            "Epoch 12/20\n",
            "500/500 - 43s - 86ms/step - accuracy: 0.9852 - loss: 0.0485 - val_accuracy: 0.8955 - val_loss: 0.3992\n"
          ]
        }
      ]
    },
    {
      "cell_type": "markdown",
      "source": [
        "# Conclusions"
      ],
      "metadata": {
        "id": "uv9WC5w0aT1D"
      }
    },
    {
      "cell_type": "code",
      "source": [
        "show_history(h)"
      ],
      "metadata": {
        "colab": {
          "base_uri": "https://localhost:8080/",
          "height": 516
        },
        "id": "HRRN8NH3XJ-e",
        "outputId": "b28b8e30-2eed-45cf-b336-b613766dbc57"
      },
      "execution_count": 68,
      "outputs": [
        {
          "output_type": "display_data",
          "data": {
            "text/plain": [
              "<Figure size 1600x600 with 2 Axes>"
            ],
            "image/png": "[encoded data removed]"
          },
          "metadata": {}
        }
      ]
    },
    {
      "cell_type": "code",
      "source": [
        "test_tweets, test_labels = get_tweet(test)\n",
        "test_seq = get_sequences(tokenizer, test_tweets)\n",
        "test_labels = names_to_ids(test_labels)"
      ],
      "metadata": {
        "id": "u696owQ6ai13"
      },
      "execution_count": 69,
      "outputs": []
    },
    {
      "cell_type": "markdown",
      "source": [
        "# Final Test Data Set Accuracy and Loss"
      ],
      "metadata": {
        "id": "Kwq_ujBpbO9r"
      }
    },
    {
      "cell_type": "code",
      "source": [
        "_ = model.evaluate(test_seq, test_labels)"
      ],
      "metadata": {
        "colab": {
          "base_uri": "https://localhost:8080/"
        },
        "id": "sYVsTEgca-_r",
        "outputId": "0cb980b0-e7cf-4cfb-f5da-0dd8bc7c7385"
      },
      "execution_count": 70,
      "outputs": [
        {
          "output_type": "stream",
          "name": "stdout",
          "text": [
            "\u001b[1m63/63\u001b[0m \u001b[32m━━━━━━━━━━━━━━━━━━━━\u001b[0m\u001b[37m\u001b[0m \u001b[1m2s\u001b[0m 30ms/step - accuracy: 0.8918 - loss: 0.4092\n"
          ]
        }
      ]
    },
    {
      "cell_type": "markdown",
      "source": [
        "A test accuracy of 0.8918 is a very good result, indicating that the model is performing well on unseen data. It suggests that the model has learned effectively from the training data and generalizes well to new examples.\n",
        "\n",
        "However, it's important to consider several factors before drawing definitive conclusions:\n",
        "\n",
        "Baseline and Task Complexity:\n",
        "\n",
        "How does this accuracy compare to a simple baseline model or human-level performance on this task? A high accuracy might be less impressive if the task is simple or a baseline model achieves a similar result.\n",
        "If the task is complex and/or human performance is lower, 0.8918 is a strong indicator of a successful model.\n",
        "Class Imbalance:\n",
        "\n",
        "If the dataset is imbalanced (some classes have significantly fewer examples), accuracy alone can be misleading. It's essential to examine other metrics like precision, recall, and F1-score, particularly for the minority classes.\n",
        "Real-World Implications:\n",
        "\n",
        "Consider the consequences of misclassifications in the context of your application. Even a seemingly small error rate can be significant depending on the use case.\n",
        "For example, in medical diagnosis, a false negative (incorrectly predicting a patient is healthy) could have serious consequences.\n",
        "Overall:\n",
        "\n",
        "A test accuracy of 0.8918 is promising and indicates that the model has the potential to be useful in real-world applications. However, further analysis and consideration of other factors are necessary to fully understand its performance and suitability for deployment."
      ],
      "metadata": {
        "id": "THBEYX1tU5cc"
      }
    },
    {
      "cell_type": "markdown",
      "source": [
        "# Individual Predictions"
      ],
      "metadata": {
        "id": "RrgXyIQubT8C"
      }
    },
    {
      "cell_type": "code",
      "source": [
        "i = random.randint(0, len(test_tweets) - 1)\n",
        "\n",
        "print(test_tweets[i])\n",
        "print('Actual class: ', index_to_classes[test_labels[i]])\n",
        "\n"
      ],
      "metadata": {
        "colab": {
          "base_uri": "https://localhost:8080/"
        },
        "id": "LZHFozBHbGPN",
        "outputId": "c5ceeefa-6b86-4f30-d7eb-d6c48da61cfa"
      },
      "execution_count": 74,
      "outputs": [
        {
          "output_type": "stream",
          "name": "stdout",
          "text": [
            "i feel kinda lousy about myself\n",
            "Actual class:  0\n"
          ]
        }
      ]
    },
    {
      "cell_type": "code",
      "source": [
        "p = model.predict(np.expand_dims(test_seq[i], axis=0))[0]"
      ],
      "metadata": {
        "colab": {
          "base_uri": "https://localhost:8080/"
        },
        "id": "fUCxoIuLbYZU",
        "outputId": "07769245-a964-40a6-b76e-188db13ffd77"
      },
      "execution_count": 77,
      "outputs": [
        {
          "output_type": "stream",
          "name": "stdout",
          "text": [
            "\u001b[1m1/1\u001b[0m \u001b[32m━━━━━━━━━━━━━━━━━━━━\u001b[0m\u001b[37m\u001b[0m \u001b[1m0s\u001b[0m 52ms/step\n"
          ]
        }
      ]
    },
    {
      "cell_type": "code",
      "source": [
        "pred_class = index_to_classes[np.argmax(p).astype('uint8')]"
      ],
      "metadata": {
        "id": "_J-Y94eMbxLY"
      },
      "execution_count": 78,
      "outputs": []
    },
    {
      "cell_type": "code",
      "source": [
        "print('Predicted class: ', pred_class)"
      ],
      "metadata": {
        "colab": {
          "base_uri": "https://localhost:8080/"
        },
        "id": "pwyHmQiQcOTb",
        "outputId": "30e4956c-241b-4309-e2cb-8931b94e7124"
      },
      "execution_count": 79,
      "outputs": [
        {
          "output_type": "stream",
          "name": "stdout",
          "text": [
            "Predicted class:  0\n"
          ]
        }
      ]
    },
    {
      "cell_type": "code",
      "source": [
        "preds = model.predict(test_seq)"
      ],
      "metadata": {
        "colab": {
          "base_uri": "https://localhost:8080/"
        },
        "id": "PmfSaDavcP5B",
        "outputId": "b547a94c-89ec-4ab5-8522-65bfb886c7a4"
      },
      "execution_count": 80,
      "outputs": [
        {
          "output_type": "stream",
          "name": "stdout",
          "text": [
            "\u001b[1m63/63\u001b[0m \u001b[32m━━━━━━━━━━━━━━━━━━━━\u001b[0m\u001b[37m\u001b[0m \u001b[1m5s\u001b[0m 40ms/step\n"
          ]
        }
      ]
    },
    {
      "cell_type": "code",
      "source": [
        "show_confusion_matrix(test_labels, preds.argmax(axis=1), list(classes))"
      ],
      "metadata": {
        "colab": {
          "base_uri": "https://localhost:8080/",
          "height": 661
        },
        "id": "wmGai5mdcoD8",
        "outputId": "3f9ed1d8-a636-4207-ad61-d6cc93bc571f"
      },
      "execution_count": 81,
      "outputs": [
        {
          "output_type": "display_data",
          "data": {
            "text/plain": [
              "<Figure size 800x800 with 2 Axes>"
            ],
            "image/png": "[encoded data removed]"
          },
          "metadata": {}
        }
      ]
    },
    {
      "cell_type": "markdown",
      "source": [
        "This shows that their is some difficulty in the model confusing some of the emotions."
      ],
      "metadata": {
        "id": "lLcwZB9CU9E9"
      }
    },
    {
      "cell_type": "code",
      "source": [],
      "metadata": {
        "id": "GgIqBwGycqlr"
      },
      "execution_count": null,
      "outputs": []
    }
  ]
}